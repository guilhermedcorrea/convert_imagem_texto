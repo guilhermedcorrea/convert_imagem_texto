{
 "cells": [
  {
   "cell_type": "code",
   "execution_count": 197,
   "metadata": {},
   "outputs": [],
   "source": [
    "import fitz \n",
    "import os\n",
    "import cv2\n",
    "import pytesseract"
   ]
  },
  {
   "cell_type": "code",
   "execution_count": 198,
   "metadata": {},
   "outputs": [],
   "source": [
    "#converte pdf em imagens"
   ]
  },
  {
   "cell_type": "code",
   "execution_count": 199,
   "metadata": {},
   "outputs": [
    {
     "name": "stdout",
     "output_type": "stream",
     "text": [
      "Imagem salva: D:\\pythonjobs\\tesseractteste\\imagens\\page_1.png\n",
      "Imagem salva: D:\\pythonjobs\\tesseractteste\\imagens\\page_2.png\n",
      "Imagem salva: D:\\pythonjobs\\tesseractteste\\imagens\\page_3.png\n",
      "Imagem salva: D:\\pythonjobs\\tesseractteste\\imagens\\page_4.png\n"
     ]
    }
   ],
   "source": [
    "def pdf_to_images(pdf_path, image_folder):\n",
    "   \n",
    "    pdf_document = fitz.open(pdf_path)\n",
    "\n",
    "    import os\n",
    "    if not os.path.exists(image_folder):\n",
    "        os.makedirs(image_folder)\n",
    "\n",
    "   \n",
    "    for page_number in range(len(pdf_document)):\n",
    "        page = pdf_document.load_page(page_number)\n",
    "        \n",
    "        pixmap = page.get_pixmap()\n",
    "        \n",
    "        image_path = os.path.join(image_folder, f\"page_{page_number + 1}.png\")\n",
    "        pixmap.save(image_path)\n",
    "        print(f\"Imagem salva: {image_path}\")\n",
    "\n",
    "    \n",
    "    pdf_document.close()\n",
    "\n",
    "pdf_path = r\"D:\\pythonjobs\\tesseractteste\\teste3.pdf\"\n",
    "image_folder = r\"D:\\pythonjobs\\tesseractteste\\imagens\"\n",
    "\n",
    "\n",
    "pdf_to_images(pdf_path, image_folder)\n"
   ]
  },
  {
   "cell_type": "code",
   "execution_count": 200,
   "metadata": {},
   "outputs": [],
   "source": [
    "#configurações adicionais\n",
    "# --psm 4  -c preserve_interword_spaces=1 tessedit_char_whitelist=ABCDEFGHIJKLMNOPQRSTUVWXYZabcdefghijklmnopqrstuvwxyz0123456789-#().[]|,,.~â ÃÂç"
   ]
  },
  {
   "cell_type": "code",
   "execution_count": 201,
   "metadata": {},
   "outputs": [
    {
     "data": {
      "text/plain": [
       "array([[[255, 255, 255],\n",
       "        [255, 255, 255],\n",
       "        [255, 255, 255],\n",
       "        ...,\n",
       "        [255, 255, 255],\n",
       "        [255, 255, 255],\n",
       "        [255, 255, 255]],\n",
       "\n",
       "       [[255, 255, 255],\n",
       "        [255, 255, 255],\n",
       "        [255, 255, 255],\n",
       "        ...,\n",
       "        [255, 255, 255],\n",
       "        [255, 255, 255],\n",
       "        [255, 255, 255]],\n",
       "\n",
       "       [[255, 255, 255],\n",
       "        [255, 255, 255],\n",
       "        [255, 255, 255],\n",
       "        ...,\n",
       "        [255, 255, 255],\n",
       "        [255, 255, 255],\n",
       "        [255, 255, 255]],\n",
       "\n",
       "       ...,\n",
       "\n",
       "       [[255, 255, 255],\n",
       "        [255, 255, 255],\n",
       "        [255, 255, 255],\n",
       "        ...,\n",
       "        [255, 255, 255],\n",
       "        [255, 255, 255],\n",
       "        [255, 255, 255]],\n",
       "\n",
       "       [[255, 255, 255],\n",
       "        [255, 255, 255],\n",
       "        [255, 255, 255],\n",
       "        ...,\n",
       "        [255, 255, 255],\n",
       "        [255, 255, 255],\n",
       "        [255, 255, 255]],\n",
       "\n",
       "       [[255, 255, 255],\n",
       "        [255, 255, 255],\n",
       "        [255, 255, 255],\n",
       "        ...,\n",
       "        [255, 255, 255],\n",
       "        [255, 255, 255],\n",
       "        [255, 255, 255]]], dtype=uint8)"
      ]
     },
     "execution_count": 201,
     "metadata": {},
     "output_type": "execute_result"
    }
   ],
   "source": [
    "img = cv2.imread(r\"D:\\pythonjobs\\tesseractteste\\imagens\\page_1.png\")\n",
    "img"
   ]
  },
  {
   "cell_type": "code",
   "execution_count": null,
   "metadata": {},
   "outputs": [],
   "source": [
    "#Converte imagem em textos"
   ]
  },
  {
   "cell_type": "code",
   "execution_count": 202,
   "metadata": {},
   "outputs": [
    {
     "name": "stdout",
     "output_type": "stream",
     "text": [
      "Texto extraído da imagem D:\\pythonjobs\\tesseractteste\\imagens\\page_1.png:\n",
      "1601-BLOCK-OP70-81B1EA1519271- 05-9026 -DIARIA\n",
      "CYL BORE HON'G - 1ff CYLINDER - 1 POSITION (30 mm)\n",
      "\n",
      "FLAVIA SOUSA\n",
      "1 2.000 pliagiio horizontal : x 14,08)\n",
      "evi Fa a te) Does) Rpk 0.1047 um\n",
      "25 epee Se, Rvk 0.4966 wm\n",
      "a & el 2 a 60 50100 Vo 00043 mm\n",
      "Se TR hee ne wonars | SETELIE\n",
      "vical PY 2.000 pliagiio horizontal : x 14,08)\n",
      "a 7 vs to Dens ts) Re 1,6284 wm\n",
      ": —\n",
      "SATE ene ore neste gh (owe mie\n",
      "(CYL BORE HON'G - 1 CYLINDER\n",
      "(2 POSITION (5mm)\n",
      "ical PY 2. 000 pliagiio horizontal : x 14,08)\n",
      "ln\" ¥: Rp 0,0988 ym\n",
      "Ss te 0s87t pm\n",
      ": mh 0273 wm\n",
      "i om w 60 80 100 ‘Vo 0,042 mm\n",
      "TL ca ne ese\n",
      "FR 8 0 me “hea mecca §\n",
      "Soe ke 1sst6 ym\n",
      "\n",
      "Cr ioe a, 185 = Cares de rug dade\n",
      "\n",
      "Canis de eteate Qh ty\n",
      "\n",
      "oot fe nas ¢\n",
      "G2 elaine\n",
      "Texto extraído da imagem D:\\pythonjobs\\tesseractteste\\imagens\\page_2.png:\n",
      "CYL BORE HON'G - 24 CYLINDER\n",
      "1 POSITION (30 mn)\n",
      "\n",
      "fervent 2.000 tplienio torieatal += 1400\n",
      "\n",
      "Rp 040822 um\n",
      "as Ry 0.3970 jm\n",
      "0 Rk 03094 um\n",
      "a8 Vo. 0,0089 mm\n",
      "re a 3085-1 S| prt 101561 Comp\n",
      "Er\" tote arn er 5-1\n",
      "&_ittowonstres\n",
      "feral PR 00 line rit 10 |\n",
      "i Re 1.7622 um\n",
      "as\n",
      "° errant renter\n",
      "“ pean\n",
      "Pope per Conga cll.\n",
      "GS a ome cae de sin | Pes OO\n",
      "ca htowo 8.00 me & hme aeons\n",
      "Nt Perera\n",
      "‘CYL BORE HON'G - 24 CYLINDER\n",
      "2 POSITION (65 mm)\n",
      "feral P50 llioie rit 14 |\n",
      "“ om ess is) Rp 0.0860 jum\n",
      "\\ pee Ry 0.5419 um\n",
      ": ous Rk 02737 um\n",
      "4 wsE vo 0.0088 mm\n",
      "reo Candis te etesto Te\n",
      "re a 3085-1 | ew are 1851 mp\n",
      "Gr\" toa trot are de rg sons | EP ima\n",
      "Gl e2teamen S80 me 2. ghee\n",
      "iat 5 90 tpl hriotal 2 1.08 mm be BOI pm\n",
      ". ous\n",
      "a rr Candis te etesto Te\n",
      "\n",
      "Cr inode Curva de ruse\n",
      "Seaton sr fe\n",
      "\n",
      "‘omen de pei (Com avaiage\n",
      "oh tomo\n",
      "hao wove §\n",
      "Texto extraído da imagem D:\\pythonjobs\\tesseractteste\\imagens\\page_3.png:\n",
      "CYL BORE HON'G - 3# CYLINDER\n",
      "\n",
      "1 POSITION (30 mim)\n",
      "eal TS. ligt rit 1 be Rp 0.0991 um\n",
      "pee Rv 0.5137 pm\n",
      "Rk 03206 pm\n",
      "0 2 1 eo 60 100 Vo 0.0050 mm\n",
      "aan ener eae mae| cones eal\n",
      "Curva de rug 1S013565-1 = Curva perf 1S013565-1 ( Coop. avi\n",
      "St a rn oe ors | Rese\n",
      "a 1 cosets om -. 68 me C= 0,000 ma 0, 0138 5\n",
      "Eee test Shasta\n",
      "ical PY 5.000 ia x10\n",
      ". ° =, so ent! Rz — 1,7861 wm\n",
      "ee\n",
      "Feccshesdscckstassh 9 0 UT\n",
      "nua de vant SU] curve do pert (Comp. avalio\n",
      "SF\" lt we cane agains | Ree Om\n",
      "Sy hom sem @  cespmuoss\n",
      "\n",
      "CYL BORE HON'G - 3# CYLINDER\n",
      "\n",
      "(2 POSITION (65 mm)\n",
      "cial 772.000 oliagb breil x 1 a, om ltitam\n",
      "as i. Ry 0.4605 jm\n",
      "poor] =] Rk 0.2813 jim\n",
      "as sf} vo 0.0038 mm\n",
      "oT] Contigo oe estat. tp\n",
      "cota vag 1500886 1 Ge] cuca pert 18019565-1 (Com. a\n",
      "EE\" eto ee are de og tones | Peet\n",
      "een tt OBER ES\n",
      "cohen sn re @ jrhmemgoiny\n",
      "fesiat 72.007 tone ino sx 1.08 |\n",
      "= ma) Dens) Re 1,7385 pm\n",
      "i \"lo_n9ne jase\n",
      "a8 eens ‘8\n",
      "ee ee Contigo oe estat. tp\n",
      "G8 gas ne cra desde | RTC\n",
      "eet td @ Soommenorss\n",
      "Geloem eos\n",
      "Texto extraído da imagem D:\\pythonjobs\\tesseractteste\\imagens\\page_4.png:\n",
      "Pt MAK\n",
      "eal PY. 00 ligt frit 1 bebe 49888 pn\n",
      "8 ce ee | ee\n",
      "oe “PaaS ae\n",
      "Porro Canis or etl tp\n",
      "EF\" “0a ot me carved de\n",
      "te se\n",
      "‘CRANK BORE - REAR\n",
      "‘LOPE MAX\n",
      "Bee PL 8.00383 ym\n",
      "\n",
      "er ioe a0, ne Cares de rupee\n",
      "tects 0: tae\n"
     ]
    }
   ],
   "source": [
    "pytesseract.pytesseract.tesseract_cmd = r'C:\\Program Files\\Tesseract-OCR\\tesseract.exe'\n",
    "\n",
    "def read_image(image_path):\n",
    "    image = cv2.imread(image_path)\n",
    "    \n",
    "    if image is not None:\n",
    "        extracted_text = pytesseract.image_to_string(image)\n",
    "        print(f\"Texto extraído da imagem {image_path}:\")\n",
    "        print(extracted_text.strip())\n",
    "        return extracted_text.strip()\n",
    "    else:\n",
    "        print(f\"Falha ao ler a imagem: {image_path}\")\n",
    "        return None\n",
    "\n",
    "def read_and_convert_images(image_folder):\n",
    "    if not os.path.exists(image_folder):\n",
    "        print(f\"O diretório {image_folder} não existe.\")\n",
    "        return\n",
    "    \n",
    "    extracted_texts = []\n",
    "\n",
    "    for filename in os.listdir(image_folder):\n",
    "        if filename.endswith(('.png', '.jpg', '.jpeg')):\n",
    "           \n",
    "            image_path = os.path.join(image_folder, filename)\n",
    "            \n",
    "            extracted_text = read_image(image_path)\n",
    "            if extracted_text is not None:\n",
    "                extracted_texts.append(extracted_text)\n",
    "\n",
    "    return extracted_texts\n",
    "\n",
    "image_folder = r\"D:\\pythonjobs\\tesseractteste\\imagens\"\n",
    "\n",
    "\n",
    "extracted_texts = read_and_convert_images(image_folder)\n",
    "\n"
   ]
  },
  {
   "cell_type": "code",
   "execution_count": 203,
   "metadata": {},
   "outputs": [],
   "source": [
    "import re"
   ]
  },
  {
   "cell_type": "code",
   "execution_count": 204,
   "metadata": {},
   "outputs": [],
   "source": [
    "pattern = r'\\b([A-Za-z]{1}[a-z]{1})\\s(\\d+)(?:,\\s\\d+)*\\b'\n"
   ]
  },
  {
   "cell_type": "code",
   "execution_count": 205,
   "metadata": {},
   "outputs": [
    {
     "data": {
      "text/plain": [
       "['1601-BLOCK-OP70-81B1EA1519271- 05-9026 -DIARIA\\nCYL BORE HON\\'G - 1ff CYLINDER - 1 POSITION (30 mm)\\n\\nFLAVIA SOUSA\\n1 2.000 pliagiio horizontal : x 14,08)\\nevi Fa a te) Does) Rpk 0.1047 um\\n25 epee Se, Rvk 0.4966 wm\\na & el 2 a 60 50100 Vo 00043 mm\\nSe TR hee ne wonars | SETELIE\\nvical PY 2.000 pliagiio horizontal : x 14,08)\\na 7 vs to Dens ts) Re 1,6284 wm\\n: —\\nSATE ene ore neste gh (owe mie\\n(CYL BORE HON\\'G - 1 CYLINDER\\n(2 POSITION (5mm)\\nical PY 2. 000 pliagiio horizontal : x 14,08)\\nln\" ¥: Rp 0,0988 ym\\nSs te 0s87t pm\\n: mh 0273 wm\\ni om w 60 80 100 ‘Vo 0,042 mm\\nTL ca ne ese\\nFR 8 0 me “hea mecca §\\nSoe ke 1sst6 ym\\n\\nCr ioe a, 185 = Cares de rug dade\\n\\nCanis de eteate Qh ty\\n\\noot fe nas ¢\\nG2 elaine',\n",
       " 'CYL BORE HON\\'G - 24 CYLINDER\\n1 POSITION (30 mn)\\n\\nfervent 2.000 tplienio torieatal += 1400\\n\\nRp 040822 um\\nas Ry 0.3970 jm\\n0 Rk 03094 um\\na8 Vo. 0,0089 mm\\nre a 3085-1 S| prt 101561 Comp\\nEr\" tote arn er 5-1\\n&_ittowonstres\\nferal PR 00 line rit 10 |\\ni Re 1.7622 um\\nas\\n° errant renter\\n“ pean\\nPope per Conga cll.\\nGS a ome cae de sin | Pes OO\\nca htowo 8.00 me & hme aeons\\nNt Perera\\n‘CYL BORE HON\\'G - 24 CYLINDER\\n2 POSITION (65 mm)\\nferal P50 llioie rit 14 |\\n“ om ess is) Rp 0.0860 jum\\n\\\\ pee Ry 0.5419 um\\n: ous Rk 02737 um\\n4 wsE vo 0.0088 mm\\nreo Candis te etesto Te\\nre a 3085-1 | ew are 1851 mp\\nGr\" toa trot are de rg sons | EP ima\\nGl e2teamen S80 me 2. ghee\\niat 5 90 tpl hriotal 2 1.08 mm be BOI pm\\n. ous\\na rr Candis te etesto Te\\n\\nCr inode Curva de ruse\\nSeaton sr fe\\n\\n‘omen de pei (Com avaiage\\noh tomo\\nhao wove §',\n",
       " 'CYL BORE HON\\'G - 3# CYLINDER\\n\\n1 POSITION (30 mim)\\neal TS. ligt rit 1 be Rp 0.0991 um\\npee Rv 0.5137 pm\\nRk 03206 pm\\n0 2 1 eo 60 100 Vo 0.0050 mm\\naan ener eae mae| cones eal\\nCurva de rug 1S013565-1 = Curva perf 1S013565-1 ( Coop. avi\\nSt a rn oe ors | Rese\\na 1 cosets om -. 68 me C= 0,000 ma 0, 0138 5\\nEee test Shasta\\nical PY 5.000 ia x10\\n. ° =, so ent! Rz — 1,7861 wm\\nee\\nFeccshesdscckstassh 9 0 UT\\nnua de vant SU] curve do pert (Comp. avalio\\nSF\" lt we cane agains | Ree Om\\nSy hom sem @  cespmuoss\\n\\nCYL BORE HON\\'G - 3# CYLINDER\\n\\n(2 POSITION (65 mm)\\ncial 772.000 oliagb breil x 1 a, om ltitam\\nas i. Ry 0.4605 jm\\npoor] =] Rk 0.2813 jim\\nas sf} vo 0.0038 mm\\noT] Contigo oe estat. tp\\ncota vag 1500886 1 Ge] cuca pert 18019565-1 (Com. a\\nEE\" eto ee are de og tones | Peet\\neen tt OBER ES\\ncohen sn re @ jrhmemgoiny\\nfesiat 72.007 tone ino sx 1.08 |\\n= ma) Dens) Re 1,7385 pm\\ni \"lo_n9ne jase\\na8 eens ‘8\\nee ee Contigo oe estat. tp\\nG8 gas ne cra desde | RTC\\neet td @ Soommenorss\\nGeloem eos',\n",
       " 'Pt MAK\\neal PY. 00 ligt frit 1 bebe 49888 pn\\n8 ce ee | ee\\noe “PaaS ae\\nPorro Canis or etl tp\\nEF\" “0a ot me carved de\\nte se\\n‘CRANK BORE - REAR\\n‘LOPE MAX\\nBee PL 8.00383 ym\\n\\ner ioe a0, ne Cares de rupee\\ntects 0: tae']"
      ]
     },
     "execution_count": 205,
     "metadata": {},
     "output_type": "execute_result"
    }
   ],
   "source": [
    "extracted_texts\n"
   ]
  },
  {
   "cell_type": "code",
   "execution_count": 206,
   "metadata": {},
   "outputs": [
    {
     "data": {
      "text/plain": [
       "\"CYL BORE HON'G - 1ff CYLINDER - 1 POSITION (30 mm)\""
      ]
     },
     "execution_count": 206,
     "metadata": {},
     "output_type": "execute_result"
    }
   ],
   "source": [
    "extracted_texts[0].split(\"\\n\")[1]"
   ]
  },
  {
   "cell_type": "code",
   "execution_count": 207,
   "metadata": {},
   "outputs": [],
   "source": [
    "\n",
    "regex = r'[A-Za-z]{1,3}\\s\\d(?:\\.\\d{1,4})?'\n",
    "\n"
   ]
  },
  {
   "cell_type": "code",
   "execution_count": 208,
   "metadata": {},
   "outputs": [],
   "source": [
    "regex = r'[A-Za-z]{1,3}\\s\\d\\.\\d{1,4}'"
   ]
  },
  {
   "cell_type": "code",
   "execution_count": 209,
   "metadata": {},
   "outputs": [
    {
     "data": {
      "text/plain": [
       "'1601-BLOCK-OP70-81B1EA1519271- 05-9026 -DIARIA'"
      ]
     },
     "execution_count": 209,
     "metadata": {},
     "output_type": "execute_result"
    }
   ],
   "source": [
    "extracted_texts[0].split(\"\\n\")[0]"
   ]
  },
  {
   "cell_type": "code",
   "execution_count": 210,
   "metadata": {},
   "outputs": [],
   "source": [
    "valores = {}"
   ]
  },
  {
   "cell_type": "code",
   "execution_count": 211,
   "metadata": {},
   "outputs": [
    {
     "data": {
      "text/plain": [
       "\"CYL BORE HON'G - 1ff CYLINDER - 1 POSITION (30 mm)\""
      ]
     },
     "execution_count": 211,
     "metadata": {},
     "output_type": "execute_result"
    }
   ],
   "source": [
    "extracted_texts[0].split(\"\\n\")[1]"
   ]
  },
  {
   "cell_type": "code",
   "execution_count": 212,
   "metadata": {},
   "outputs": [],
   "source": [
    "valores[\"Titulo\"] = extracted_texts[0].split(\"\\n\")[1]"
   ]
  },
  {
   "cell_type": "code",
   "execution_count": 213,
   "metadata": {},
   "outputs": [],
   "source": [
    "cont = 0\n",
    "for item in extracted_texts[0].split(\"\\n\"):\n",
    "    correspondencias = re.findall(regex, item)\n",
    "    if len(correspondencias) > 0:\n",
    "        \n",
    "        for corresponencia in correspondencias:\n",
    "            valores[\"Valor\"+str(cont)] = corresponencia\n",
    "            cont+=1\n",
    "           \n",
    "            \n",
    "        "
   ]
  },
  {
   "cell_type": "code",
   "execution_count": 214,
   "metadata": {},
   "outputs": [
    {
     "data": {
      "text/plain": [
       "{'Titulo': \"CYL BORE HON'G - 1ff CYLINDER - 1 POSITION (30 mm)\",\n",
       " 'Valor0': 'Rpk 0.1047',\n",
       " 'Valor1': 'Rvk 0.4966',\n",
       " 'Valor2': 'PY 2.000'}"
      ]
     },
     "execution_count": 214,
     "metadata": {},
     "output_type": "execute_result"
    }
   ],
   "source": [
    "valores\n"
   ]
  },
  {
   "cell_type": "code",
   "execution_count": 215,
   "metadata": {},
   "outputs": [],
   "source": [
    "import csv\n",
    "\n",
    "\n",
    "nome_arquivo = 'dados.csv'\n",
    "\n",
    "with open(nome_arquivo, 'w', newline='') as arquivo_csv:\n",
    "    campos = list(valores.keys())\n",
    "    escritor_csv = csv.DictWriter(arquivo_csv, fieldnames=campos)\n",
    "    \n",
    "    escritor_csv.writeheader()\n",
    "    \n",
    "    escritor_csv.writerow(valores)\n",
    "\n"
   ]
  }
 ],
 "metadata": {
  "kernelspec": {
   "display_name": "venv",
   "language": "python",
   "name": "python3"
  },
  "language_info": {
   "codemirror_mode": {
    "name": "ipython",
    "version": 3
   },
   "file_extension": ".py",
   "mimetype": "text/x-python",
   "name": "python",
   "nbconvert_exporter": "python",
   "pygments_lexer": "ipython3",
   "version": "3.9.13"
  }
 },
 "nbformat": 4,
 "nbformat_minor": 2
}
